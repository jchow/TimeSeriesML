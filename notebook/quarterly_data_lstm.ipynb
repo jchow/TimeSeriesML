{
 "cells": [
  {
   "cell_type": "code",
   "execution_count": 1,
   "metadata": {
    "collapsed": false
   },
   "outputs": [],
   "source": [
    "import quandl as quandl\n",
    "import pandas as pd\n",
    "import numpy as np\n",
    "from sklearn.preprocessing import MinMaxScaler\n",
    "import os"
   ]
  },
  {
   "cell_type": "code",
   "execution_count": 2,
   "metadata": {
    "collapsed": true
   },
   "outputs": [],
   "source": [
    "def get_scaled_data_value_arrays(all_data_table):\n",
    "        data_value_arrays = all_data_table.values\n",
    "        data_value_arrays = data_value_arrays.astype('float32')\n",
    "        # normalize features\n",
    "        scaler = MinMaxScaler(feature_range=(0, 1))\n",
    "        scaled_data_value_arrays = scaler.fit_transform(data_value_arrays)\n",
    "        return scaled_data_value_arrays\n",
    "\n",
    "def get_performance_for_labels(sequence_df_start, sequence_df_end):\n",
    "        price_perf = sequence_df_end['close_price_next_quarter'] - sequence_df_start['close_price'] / sequence_df_start[\n",
    "            'close_price']\n",
    "        baseline_perf = sequence_df_end['baseline_price_next_quarter'] - sequence_df_start['baseline_price'] / \\\n",
    "                        sequence_df_start['baseline_price']\n",
    "        perf = price_perf - baseline_perf / baseline_perf\n",
    "        return perf\n",
    "    \n",
    "def to_sequence_data(data_arrays, seq_num=1):\n",
    "        return data_arrays.reshape((data_arrays.shape[0] // seq_num, seq_num, data_arrays.shape[1]))\n",
    "    \n",
    "def get_dataset_from_intrinio_for_RNN():\n",
    "        print('---- From intrinio ----')\n",
    "        all_data_table = pd.DataFrame()\n",
    "        all_labels = []\n",
    "\n",
    "        # Read data from files\n",
    "        resources_path = '../resources'\n",
    "        files = os.listdir(resources_path)\n",
    "        for file in files:\n",
    "            print(file)\n",
    "            df = pd.read_csv(os.path.join(resources_path, file))\n",
    "            all_data_table = all_data_table.append(df, ignore_index=True)\n",
    "            print(all_data_table.shape)\n",
    "\n",
    "        all_data_table = all_data_table.replace('nm', np.nan)\n",
    "        threshold = int(0.9 * all_data_table.shape[0])\n",
    "        all_data_table = all_data_table.dropna(axis='columns', thresh=threshold)\n",
    "        all_data_table = all_data_table.dropna(axis='rows', how='any')\n",
    "        all_data_table.sort_values('date', ascending=True, inplace=True)\n",
    "        print(all_data_table.shape)\n",
    "\n",
    "        sequence_df = pd.DataFrame()\n",
    "        sequence_length = 4  # 4 quarters as a sequence\n",
    "        unique_tickers = all_data_table['ticker'].unique().tolist()\n",
    "        for ticker in unique_tickers:\n",
    "            ticker_df = all_data_table[all_data_table['ticker'] == ticker]\n",
    "            idx = 0\n",
    "            while idx < ticker_df.shape[0] - sequence_length:\n",
    "                sequence_df = sequence_df.append(ticker_df[idx:idx + sequence_length], ignore_index=True)\n",
    "                labels_perf = get_performance_for_labels(sequence_df.iloc[idx, :],\n",
    "                                                         sequence_df.iloc[idx + sequence_length-1, :])\n",
    "                all_labels.append(labels_perf)\n",
    "                idx += sequence_length\n",
    "\n",
    "        sequence_df.drop(['ticker', 'date'], axis=1, inplace=True)\n",
    "        # all_data_table.drop(['close_price_next_quarter', 'baseline_price_next_quarter'], axis=1)\n",
    "\n",
    "        print(sequence_df.shape)\n",
    "\n",
    "        # while all_data_table.shape[0] % sequence_length != 0:\n",
    "        #     all_data_table.drop(all_data_table.head(1).index, inplace=True)\n",
    "\n",
    "        scaled_data_value_arrays = get_scaled_data_value_arrays(sequence_df)\n",
    "        return to_sequence_data(scaled_data_value_arrays, int(sequence_length)), all_labels"
   ]
  },
  {
   "cell_type": "code",
   "execution_count": 3,
   "metadata": {
    "collapsed": false
   },
   "outputs": [
    {
     "name": "stdout",
     "output_type": "stream",
     "text": [
      "---- From intrinio ----\n",
      "fundamental_EA.csv\n",
      "(36, 194)\n",
      "fundamental_ADBE.csv\n",
      "(72, 203)\n",
      "fundamental_ORCL.csv\n",
      "(108, 207)\n",
      "fundamental_CRM.csv\n",
      "(144, 212)\n",
      "fundamental_GOOGL.csv\n",
      "(180, 216)\n",
      "fundamental_INTC.csv\n",
      "(216, 216)\n",
      "fundamental_MSFT.csv\n",
      "(252, 216)\n",
      "fundamental_AAPL.csv\n",
      "(288, 217)\n",
      "fundamental_IBM.csv\n",
      "(324, 221)\n",
      "(227, 142)\n",
      "(200, 140)\n"
     ]
    }
   ],
   "source": [
    "dataset, labels = get_dataset_from_intrinio_for_RNN()"
   ]
  },
  {
   "cell_type": "code",
   "execution_count": 4,
   "metadata": {
    "collapsed": true
   },
   "outputs": [],
   "source": [
    "    def split_tran_test_data(data_value_arrays, labels):\n",
    "        train_number = int(0.7 * data_value_arrays.shape[0])\n",
    "        train_X, train_y = data_value_arrays[:train_number, :], labels[:train_number]\n",
    "        test_X, test_y = data_value_arrays[train_number:, :], labels[train_number:]\n",
    "        print('---- split ----')\n",
    "        print(train_number)\n",
    "        print(labels)\n",
    "        return test_X, test_y, train_X, train_y"
   ]
  },
  {
   "cell_type": "code",
   "execution_count": 5,
   "metadata": {
    "collapsed": false
   },
   "outputs": [
    {
     "data": {
      "text/plain": [
       "numpy.ndarray"
      ]
     },
     "execution_count": 5,
     "metadata": {},
     "output_type": "execute_result"
    }
   ],
   "source": [
    "type(dataset)"
   ]
  },
  {
   "cell_type": "code",
   "execution_count": 6,
   "metadata": {
    "collapsed": false
   },
   "outputs": [
    {
     "name": "stdout",
     "output_type": "stream",
     "text": [
      "---- split ----\n",
      "35\n",
      "[0.058642   0.         0.10780981 0.18997395 0.45247449 0.59662927\n",
      " 0.058642   0.         0.10780981 0.18997395 0.45247449 0.058642\n",
      " 0.         0.10780981 0.18997395 0.45247449 0.59662927 1.\n",
      " 0.058642   0.         0.10780981 0.18997395 0.45247449 0.59662927\n",
      " 1.         0.058642   0.         0.10780981 0.18997395 0.45247449\n",
      " 0.59662927 1.         0.058642   0.         0.10780981 0.18997395\n",
      " 0.45247449 0.058642   0.         0.10780981 0.18997395 0.45247449\n",
      " 0.058642   0.         0.10780981 0.18997395 0.45247449 0.058642\n",
      " 0.         0.10780981]\n"
     ]
    },
    {
     "name": "stderr",
     "output_type": "stream",
     "text": [
      "/usr/local/lib/python2.7/dist-packages/sklearn/preprocessing/data.py:324: DeprecationWarning: Passing 1d arrays as data is deprecated in 0.17 and will raise ValueError in 0.19. Reshape your data either using X.reshape(-1, 1) if your data has a single feature or X.reshape(1, -1) if it contains a single sample.\n",
      "  warnings.warn(DEPRECATION_MSG_1D, DeprecationWarning)\n",
      "/usr/local/lib/python2.7/dist-packages/sklearn/preprocessing/data.py:359: DeprecationWarning: Passing 1d arrays as data is deprecated in 0.17 and will raise ValueError in 0.19. Reshape your data either using X.reshape(-1, 1) if your data has a single feature or X.reshape(1, -1) if it contains a single sample.\n",
      "  warnings.warn(DEPRECATION_MSG_1D, DeprecationWarning)\n"
     ]
    }
   ],
   "source": [
    "    # dataset, labels = get_dataset_from_intrinio_for_RNN()\n",
    "    \n",
    "    scaler = MinMaxScaler(feature_range=(0, 1))\n",
    "    scaled_labels = scaler.fit_transform(labels)\n",
    "\n",
    "    # Split into train and test sets 7-3\n",
    "    test_X, test_Y, train_X, train_Y = split_tran_test_data(dataset, scaled_labels)   "
   ]
  },
  {
   "cell_type": "code",
   "execution_count": 7,
   "metadata": {
    "collapsed": false
   },
   "outputs": [
    {
     "name": "stdout",
     "output_type": "stream",
     "text": [
      "('train_X shape', (35, 4, 140))\n",
      "('train_Y shape', (35,))\n",
      "('test_X shape', (15, 4, 140))\n",
      "('test_Y shape', (15,))\n"
     ]
    }
   ],
   "source": [
    "print('train_X shape', train_X.shape)\n",
    "print('train_Y shape', train_Y.shape)\n",
    "print('test_X shape', test_X.shape)\n",
    "print('test_Y shape', test_Y.shape)"
   ]
  },
  {
   "cell_type": "code",
   "execution_count": 8,
   "metadata": {
    "collapsed": false
   },
   "outputs": [
    {
     "name": "stderr",
     "output_type": "stream",
     "text": [
      "Using TensorFlow backend.\n"
     ]
    }
   ],
   "source": [
    "from keras.layers import Dense, Input, Dropout\n",
    "from keras.layers.recurrent import LSTM\n",
    "from keras.optimizers import SGD\n",
    "from keras.models import Model\n",
    "from keras.models import load_model\n",
    "from keras.callbacks import ModelCheckpoint\n",
    "from sklearn.preprocessing import MinMaxScaler\n",
    "from sklearn.metrics import mean_squared_error\n",
    "from math import sqrt\n",
    "import os"
   ]
  },
  {
   "cell_type": "code",
   "execution_count": 9,
   "metadata": {
    "collapsed": false
   },
   "outputs": [
    {
     "data": {
      "text/plain": [
       "140"
      ]
     },
     "execution_count": 9,
     "metadata": {},
     "output_type": "execute_result"
    }
   ],
   "source": [
    "train_X.shape[2]"
   ]
  },
  {
   "cell_type": "code",
   "execution_count": 11,
   "metadata": {
    "collapsed": false
   },
   "outputs": [
    {
     "name": "stdout",
     "output_type": "stream",
     "text": [
      "_________________________________________________________________\n",
      "Layer (type)                 Output Shape              Param #   \n",
      "=================================================================\n",
      "input_2 (InputLayer)         (None, 4, 140)            0         \n",
      "_________________________________________________________________\n",
      "lstm_3 (LSTM)                (None, 4, 64)             52480     \n",
      "_________________________________________________________________\n",
      "lstm_4 (LSTM)                (None, 32)                12416     \n",
      "_________________________________________________________________\n",
      "dropout_2 (Dropout)          (None, 32)                0         \n",
      "_________________________________________________________________\n",
      "dense_2 (Dense)              (None, 1)                 33        \n",
      "=================================================================\n",
      "Total params: 64,929\n",
      "Trainable params: 64,929\n",
      "Non-trainable params: 0\n",
      "_________________________________________________________________\n",
      "------- Model Summary -------\n",
      "_________________________________________________________________\n",
      "Layer (type)                 Output Shape              Param #   \n",
      "=================================================================\n",
      "input_2 (InputLayer)         (None, 4, 140)            0         \n",
      "_________________________________________________________________\n",
      "lstm_3 (LSTM)                (None, 4, 64)             52480     \n",
      "_________________________________________________________________\n",
      "lstm_4 (LSTM)                (None, 32)                12416     \n",
      "_________________________________________________________________\n",
      "dropout_2 (Dropout)          (None, 32)                0         \n",
      "_________________________________________________________________\n",
      "dense_2 (Dense)              (None, 1)                 33        \n",
      "=================================================================\n",
      "Total params: 64,929\n",
      "Trainable params: 64,929\n",
      "Non-trainable params: 0\n",
      "_________________________________________________________________\n",
      "None\n",
      "Train on 35 samples, validate on 15 samples\n",
      "Epoch 1/20\n",
      " - 3s - loss: 0.3492 - val_loss: 0.1624\n"
     ]
    },
    {
     "ename": "ImportError",
     "evalue": "`save_model` requires h5py.",
     "traceback": [
      "\u001b[0;31m---------------------------------------------------------------------------\u001b[0m",
      "\u001b[0;31mImportError\u001b[0m                               Traceback (most recent call last)",
      "\u001b[0;32m<ipython-input-11-f478f466c9d4>\u001b[0m in \u001b[0;36m<module>\u001b[0;34m()\u001b[0m\n\u001b[1;32m     21\u001b[0m                                     period=1)\n\u001b[1;32m     22\u001b[0m model.fit(train_X, train_Y, epochs=20, batch_size=16, validation_data=(test_X, test_Y), verbose=2,\n\u001b[0;32m---> 23\u001b[0;31m                             shuffle=True, callbacks=[save_best])\n\u001b[0m",
      "\u001b[0;32m/usr/local/lib/python2.7/dist-packages/keras/engine/training.pyc\u001b[0m in \u001b[0;36mfit\u001b[0;34m(self, x, y, batch_size, epochs, verbose, callbacks, validation_split, validation_data, shuffle, class_weight, sample_weight, initial_epoch, steps_per_epoch, validation_steps, **kwargs)\u001b[0m\n\u001b[1;32m   1710\u001b[0m                               \u001b[0minitial_epoch\u001b[0m\u001b[0;34m=\u001b[0m\u001b[0minitial_epoch\u001b[0m\u001b[0;34m,\u001b[0m\u001b[0;34m\u001b[0m\u001b[0m\n\u001b[1;32m   1711\u001b[0m                               \u001b[0msteps_per_epoch\u001b[0m\u001b[0;34m=\u001b[0m\u001b[0msteps_per_epoch\u001b[0m\u001b[0;34m,\u001b[0m\u001b[0;34m\u001b[0m\u001b[0m\n\u001b[0;32m-> 1712\u001b[0;31m                               validation_steps=validation_steps)\n\u001b[0m\u001b[1;32m   1713\u001b[0m \u001b[0;34m\u001b[0m\u001b[0m\n\u001b[1;32m   1714\u001b[0m     def evaluate(self, x=None, y=None,\n",
      "\u001b[0;32m/usr/local/lib/python2.7/dist-packages/keras/engine/training.pyc\u001b[0m in \u001b[0;36m_fit_loop\u001b[0;34m(self, f, ins, out_labels, batch_size, epochs, verbose, callbacks, val_f, val_ins, shuffle, callback_metrics, initial_epoch, steps_per_epoch, validation_steps)\u001b[0m\n\u001b[1;32m   1253\u001b[0m                             \u001b[0;32mfor\u001b[0m \u001b[0ml\u001b[0m\u001b[0;34m,\u001b[0m \u001b[0mo\u001b[0m \u001b[0;32min\u001b[0m \u001b[0mzip\u001b[0m\u001b[0;34m(\u001b[0m\u001b[0mout_labels\u001b[0m\u001b[0;34m,\u001b[0m \u001b[0mval_outs\u001b[0m\u001b[0;34m)\u001b[0m\u001b[0;34m:\u001b[0m\u001b[0;34m\u001b[0m\u001b[0m\n\u001b[1;32m   1254\u001b[0m                                 \u001b[0mepoch_logs\u001b[0m\u001b[0;34m[\u001b[0m\u001b[0;34m'val_'\u001b[0m \u001b[0;34m+\u001b[0m \u001b[0ml\u001b[0m\u001b[0;34m]\u001b[0m \u001b[0;34m=\u001b[0m \u001b[0mo\u001b[0m\u001b[0;34m\u001b[0m\u001b[0m\n\u001b[0;32m-> 1255\u001b[0;31m             \u001b[0mcallbacks\u001b[0m\u001b[0;34m.\u001b[0m\u001b[0mon_epoch_end\u001b[0m\u001b[0;34m(\u001b[0m\u001b[0mepoch\u001b[0m\u001b[0;34m,\u001b[0m \u001b[0mepoch_logs\u001b[0m\u001b[0;34m)\u001b[0m\u001b[0;34m\u001b[0m\u001b[0m\n\u001b[0m\u001b[1;32m   1256\u001b[0m             \u001b[0;32mif\u001b[0m \u001b[0mcallback_model\u001b[0m\u001b[0;34m.\u001b[0m\u001b[0mstop_training\u001b[0m\u001b[0;34m:\u001b[0m\u001b[0;34m\u001b[0m\u001b[0m\n\u001b[1;32m   1257\u001b[0m                 \u001b[0;32mbreak\u001b[0m\u001b[0;34m\u001b[0m\u001b[0m\n",
      "\u001b[0;32m/usr/local/lib/python2.7/dist-packages/keras/callbacks.pyc\u001b[0m in \u001b[0;36mon_epoch_end\u001b[0;34m(self, epoch, logs)\u001b[0m\n\u001b[1;32m     75\u001b[0m         \u001b[0mlogs\u001b[0m \u001b[0;34m=\u001b[0m \u001b[0mlogs\u001b[0m \u001b[0;32mor\u001b[0m \u001b[0;34m{\u001b[0m\u001b[0;34m}\u001b[0m\u001b[0;34m\u001b[0m\u001b[0m\n\u001b[1;32m     76\u001b[0m         \u001b[0;32mfor\u001b[0m \u001b[0mcallback\u001b[0m \u001b[0;32min\u001b[0m \u001b[0mself\u001b[0m\u001b[0;34m.\u001b[0m\u001b[0mcallbacks\u001b[0m\u001b[0;34m:\u001b[0m\u001b[0;34m\u001b[0m\u001b[0m\n\u001b[0;32m---> 77\u001b[0;31m             \u001b[0mcallback\u001b[0m\u001b[0;34m.\u001b[0m\u001b[0mon_epoch_end\u001b[0m\u001b[0;34m(\u001b[0m\u001b[0mepoch\u001b[0m\u001b[0;34m,\u001b[0m \u001b[0mlogs\u001b[0m\u001b[0;34m)\u001b[0m\u001b[0;34m\u001b[0m\u001b[0m\n\u001b[0m\u001b[1;32m     78\u001b[0m \u001b[0;34m\u001b[0m\u001b[0m\n\u001b[1;32m     79\u001b[0m     \u001b[0;32mdef\u001b[0m \u001b[0mon_batch_begin\u001b[0m\u001b[0;34m(\u001b[0m\u001b[0mself\u001b[0m\u001b[0;34m,\u001b[0m \u001b[0mbatch\u001b[0m\u001b[0;34m,\u001b[0m \u001b[0mlogs\u001b[0m\u001b[0;34m=\u001b[0m\u001b[0mNone\u001b[0m\u001b[0;34m)\u001b[0m\u001b[0;34m:\u001b[0m\u001b[0;34m\u001b[0m\u001b[0m\n",
      "\u001b[0;32m/usr/local/lib/python2.7/dist-packages/keras/callbacks.pyc\u001b[0m in \u001b[0;36mon_epoch_end\u001b[0;34m(self, epoch, logs)\u001b[0m\n\u001b[1;32m    445\u001b[0m                             \u001b[0mself\u001b[0m\u001b[0;34m.\u001b[0m\u001b[0mmodel\u001b[0m\u001b[0;34m.\u001b[0m\u001b[0msave_weights\u001b[0m\u001b[0;34m(\u001b[0m\u001b[0mfilepath\u001b[0m\u001b[0;34m,\u001b[0m \u001b[0moverwrite\u001b[0m\u001b[0;34m=\u001b[0m\u001b[0mTrue\u001b[0m\u001b[0;34m)\u001b[0m\u001b[0;34m\u001b[0m\u001b[0m\n\u001b[1;32m    446\u001b[0m                         \u001b[0;32melse\u001b[0m\u001b[0;34m:\u001b[0m\u001b[0;34m\u001b[0m\u001b[0m\n\u001b[0;32m--> 447\u001b[0;31m                             \u001b[0mself\u001b[0m\u001b[0;34m.\u001b[0m\u001b[0mmodel\u001b[0m\u001b[0;34m.\u001b[0m\u001b[0msave\u001b[0m\u001b[0;34m(\u001b[0m\u001b[0mfilepath\u001b[0m\u001b[0;34m,\u001b[0m \u001b[0moverwrite\u001b[0m\u001b[0;34m=\u001b[0m\u001b[0mTrue\u001b[0m\u001b[0;34m)\u001b[0m\u001b[0;34m\u001b[0m\u001b[0m\n\u001b[0m\u001b[1;32m    448\u001b[0m                     \u001b[0;32melse\u001b[0m\u001b[0;34m:\u001b[0m\u001b[0;34m\u001b[0m\u001b[0m\n\u001b[1;32m    449\u001b[0m                         \u001b[0;32mif\u001b[0m \u001b[0mself\u001b[0m\u001b[0;34m.\u001b[0m\u001b[0mverbose\u001b[0m \u001b[0;34m>\u001b[0m \u001b[0;36m0\u001b[0m\u001b[0;34m:\u001b[0m\u001b[0;34m\u001b[0m\u001b[0m\n",
      "\u001b[0;32m/usr/local/lib/python2.7/dist-packages/keras/engine/topology.pyc\u001b[0m in \u001b[0;36msave\u001b[0;34m(self, filepath, overwrite, include_optimizer)\u001b[0m\n\u001b[1;32m   2574\u001b[0m         \"\"\"\n\u001b[1;32m   2575\u001b[0m         \u001b[0;32mfrom\u001b[0m \u001b[0;34m.\u001b[0m\u001b[0;34m.\u001b[0m\u001b[0mmodels\u001b[0m \u001b[0;32mimport\u001b[0m \u001b[0msave_model\u001b[0m\u001b[0;34m\u001b[0m\u001b[0m\n\u001b[0;32m-> 2576\u001b[0;31m         \u001b[0msave_model\u001b[0m\u001b[0;34m(\u001b[0m\u001b[0mself\u001b[0m\u001b[0;34m,\u001b[0m \u001b[0mfilepath\u001b[0m\u001b[0;34m,\u001b[0m \u001b[0moverwrite\u001b[0m\u001b[0;34m,\u001b[0m \u001b[0minclude_optimizer\u001b[0m\u001b[0;34m)\u001b[0m\u001b[0;34m\u001b[0m\u001b[0m\n\u001b[0m\u001b[1;32m   2577\u001b[0m \u001b[0;34m\u001b[0m\u001b[0m\n\u001b[1;32m   2578\u001b[0m     \u001b[0;32mdef\u001b[0m \u001b[0msave_weights\u001b[0m\u001b[0;34m(\u001b[0m\u001b[0mself\u001b[0m\u001b[0;34m,\u001b[0m \u001b[0mfilepath\u001b[0m\u001b[0;34m,\u001b[0m \u001b[0moverwrite\u001b[0m\u001b[0;34m=\u001b[0m\u001b[0mTrue\u001b[0m\u001b[0;34m)\u001b[0m\u001b[0;34m:\u001b[0m\u001b[0;34m\u001b[0m\u001b[0m\n",
      "\u001b[0;32m/usr/local/lib/python2.7/dist-packages/keras/models.pyc\u001b[0m in \u001b[0;36msave_model\u001b[0;34m(model, filepath, overwrite, include_optimizer)\u001b[0m\n\u001b[1;32m     58\u001b[0m \u001b[0;34m\u001b[0m\u001b[0m\n\u001b[1;32m     59\u001b[0m     \u001b[0;32mif\u001b[0m \u001b[0mh5py\u001b[0m \u001b[0;32mis\u001b[0m \u001b[0mNone\u001b[0m\u001b[0;34m:\u001b[0m\u001b[0;34m\u001b[0m\u001b[0m\n\u001b[0;32m---> 60\u001b[0;31m         \u001b[0;32mraise\u001b[0m \u001b[0mImportError\u001b[0m\u001b[0;34m(\u001b[0m\u001b[0;34m'`save_model` requires h5py.'\u001b[0m\u001b[0;34m)\u001b[0m\u001b[0;34m\u001b[0m\u001b[0m\n\u001b[0m\u001b[1;32m     61\u001b[0m \u001b[0;34m\u001b[0m\u001b[0m\n\u001b[1;32m     62\u001b[0m     \u001b[0;32mdef\u001b[0m \u001b[0mget_json_type\u001b[0m\u001b[0;34m(\u001b[0m\u001b[0mobj\u001b[0m\u001b[0;34m)\u001b[0m\u001b[0;34m:\u001b[0m\u001b[0;34m\u001b[0m\u001b[0m\n",
      "\u001b[0;31mImportError\u001b[0m: `save_model` requires h5py."
     ],
     "output_type": "error"
    }
   ],
   "source": [
    "input_layer = Input(shape=(train_X.shape[1],train_X.shape[2]), dtype='float32')\n",
    "\n",
    "lstm_layer1 = LSTM(64, input_shape=(train_X.shape[1], train_X.shape[2]), return_sequences=True)(input_layer)\n",
    "lstm_layer2 = LSTM(32, input_shape=(train_X.shape[1],64), return_sequences=False)(lstm_layer1)\n",
    "\n",
    "dropout_layer = Dropout(0.2)(lstm_layer2)\n",
    "output_layer = Dense(1, activation='linear')(dropout_layer)\n",
    "\n",
    "model = Model(inputs=input_layer, outputs=output_layer)\n",
    "model.compile(loss='mean_absolute_error', optimizer='adam')\n",
    "model.summary()\n",
    "\n",
    "print('------- Model Summary -------')\n",
    "print(model.summary())\n",
    "\n",
    "# fit the network\n",
    "save_weights_at = os.path.join('../keras_models',\n",
    "                                       'Intrinio_Stock_Fundamental_LSTM_weights.hdf5')\n",
    "save_best = ModelCheckpoint(save_weights_at, monitor='val_loss', verbose=0,\n",
    "                                    save_best_only=True, save_weights_only=False, mode='min',\n",
    "                                    period=1)\n",
    "model.fit(train_X, train_Y, epochs=20, batch_size=16, validation_data=(test_X, test_Y), verbose=2,\n",
    "                            shuffle=True, callbacks=[save_best])"
   ]
  }
 ],
 "metadata": {
  "kernelspec": {
   "display_name": "Python 2",
   "language": "python",
   "name": "python2"
  },
  "language_info": {
   "codemirror_mode": {
    "name": "ipython",
    "version": 2
   },
   "file_extension": ".py",
   "mimetype": "text/x-python",
   "name": "python",
   "nbconvert_exporter": "python",
   "pygments_lexer": "ipython2",
   "version": "2.7.12"
  }
 },
 "nbformat": 4,
 "nbformat_minor": 1
}
